{
 "cells": [
  {
   "cell_type": "code",
   "execution_count": 1,
   "metadata": {},
   "outputs": [],
   "source": [
    "import pandas as pd\n",
    "from mlxtend.frequent_patterns import apriori, association_rules\n",
    "from mlxtend.preprocessing import TransactionEncoder"
   ]
  },
  {
   "cell_type": "code",
   "execution_count": 2,
   "metadata": {},
   "outputs": [],
   "source": [
    "# existing transactions list\n",
    "transactions = [\n",
    "    ['eggs', 'cooking oil', 'flour', 'sugar', 'milk'],\n",
    "    ['bread', 'butter', 'jam', 'tea', 'coffee'],\n",
    "    ['rice', 'beans', 'tomato sauce', 'salt', 'pepper'],\n",
    "    ['pasta', 'olive oil', 'garlic', 'parmesan', 'tomatoes'],\n",
    "    ['cereal', 'milk', 'honey', 'bananas', 'yogurt'],\n",
    "    ['chicken', 'potatoes', 'carrots', 'onions', 'garlic'],\n",
    "    ['fish', 'lemon', 'herbs', 'olive oil', 'broccoli'],\n",
    "    ['beef', 'onions', 'mushrooms', 'cream', 'mustard'],\n",
    "    ['tofu', 'soy sauce', 'ginger', 'garlic', 'rice'],\n",
    "    ['soda', 'chips', 'dip', 'nuts', 'popcorn'],\n",
    "    ['bacon', 'eggs', 'cheese', 'bread', 'butter'],\n",
    "    ['tomatoes', 'cucumbers', 'lettuce', 'olive oil', 'feta cheese'],\n",
    "    ['orange juice', 'apples', 'bananas', 'grapes', 'berries'],\n",
    "    ['pancake mix', 'maple syrup', 'eggs', 'milk', 'butter'],\n",
    "    ['chocolate', 'sugar', 'flour', 'eggs', 'butter'],\n",
    "    ['coffee', 'milk', 'sugar', 'cocoa', 'whipped cream'],\n",
    "    ['tea', 'honey', 'lemon', 'ginger', 'biscuits'],\n",
    "    ['wine', 'cheese', 'crackers', 'grapes', 'nuts'],\n",
    "    ['beer', 'pretzels', 'chips', 'dip', 'peanuts'],\n",
    "    ['water', 'orange juice', 'apple juice', 'milk', 'soda'],\n",
    "    ['flour', 'yeast', 'water', 'salt', 'sugar'],\n",
    "    ['cinnamon', 'sugar', 'apples', 'flour', 'butter'],\n",
    "    ['pasta', 'tomato sauce', 'ground beef', 'parmesan', 'onions'],\n",
    "    ['rice', 'chicken', 'soy sauce', 'peas', 'carrots'],\n",
    "    ['bread', 'ham', 'cheese', 'mustard', 'lettuce'],\n",
    "    ['lettuce', 'carrots', 'cucumbers', 'tomatoes', 'salad dressing'],\n",
    "    ['cereal', 'milk', 'bananas', 'blueberries', 'yogurt'],\n",
    "    ['potatoes', 'butter', 'garlic', 'rosemary', 'salt'],\n",
    "    ['beef', 'barbecue sauce', 'buns', 'pickles', 'onions'],\n",
    "    ['chicken', 'breadcrumbs', 'eggs', 'flour', 'spices'],\n",
    "    ['ice cream', 'chocolate syrup', 'sprinkles', 'whipped cream', 'cherries'],\n",
    "    ['bread', 'peanut butter', 'jelly', 'bananas', 'milk'],\n",
    "    ['sausages', 'eggs', 'bread', 'beans', 'tomatoes'],\n",
    "    ['fish', 'potatoes', 'lemon', 'herbs', 'olive oil'],\n",
    "    ['rice', 'beans', 'chili powder', 'tomato sauce', 'onions'],\n",
    "    ['pasta', 'pesto', 'parmesan', 'cherry tomatoes', 'olive oil'],\n",
    "    ['yogurt', 'honey', 'granola', 'berries', 'bananas'],\n",
    "    ['flour', 'sugar', 'eggs', 'butter', 'vanilla extract'],\n",
    "    ['tea', 'milk', 'sugar', 'biscuits', 'honey'],\n",
    "    ['wine', 'bread', 'cheese', 'grapes', 'crackers'],\n",
    "    ['beer', 'chips', 'salsa', 'guacamole', 'pretzels'],\n",
    "    ['water', 'lemonade', 'soda', 'apple juice', 'orange juice'],\n",
    "    ['pancake mix', 'eggs', 'milk', 'syrup', 'butter'],\n",
    "    ['cereal', 'milk', 'honey', 'strawberries', 'yogurt'],\n",
    "    ['chicken', 'rice', 'vegetables', 'soy sauce', 'garlic'],\n",
    "    ['bread', 'cheese', 'ham', 'mustard', 'lettuce'],\n",
    "    ['ice cream', 'chocolate chips', 'sprinkles', 'waffle cones', 'whipped cream'],\n",
    "    ['sausages', 'potatoes', 'onions', 'bell peppers', 'olive oil'],\n",
    "    ['fish', 'herbs', 'lemon', 'garlic', 'butter']\n",
    "]"
   ]
  },
  {
   "cell_type": "code",
   "execution_count": 3,
   "metadata": {},
   "outputs": [],
   "source": [
    "# Convert transactions into a one-hot encoded DataFrame\n",
    "te = TransactionEncoder()\n",
    "te_ary = te.fit_transform(transactions)\n",
    "df = pd.DataFrame(te_ary, columns=te.columns_)"
   ]
  },
  {
   "cell_type": "code",
   "execution_count": 4,
   "metadata": {},
   "outputs": [],
   "source": [
    "# Apply the Apriori algorithm\n",
    "frequent_itemsets = apriori(df, min_support=0.01, use_colnames=True)\n"
   ]
  },
  {
   "cell_type": "code",
   "execution_count": 28,
   "metadata": {},
   "outputs": [],
   "source": [
    "\n",
    "# Generate the association rules\n",
    "rules = association_rules(frequent_itemsets, metric=\"support\", min_threshold=.02)\n"
   ]
  },
  {
   "cell_type": "code",
   "execution_count": 41,
   "metadata": {},
   "outputs": [],
   "source": [
    "def recommend_products(products, rules, top_n=5):\n",
    "    # Convert antecedents and consequents to tuples to ensure they are hashable\n",
    "    rules['antecedents'] = rules['antecedents'].apply(lambda x: tuple(x))\n",
    "    rules['consequents'] = rules['consequents'].apply(lambda x: tuple(x))\n",
    "    # Filter rules to find recommendations for the given products\n",
    "    recommendations = rules[rules['antecedents'].apply(lambda x: any(product in x for product in products))]\n",
    "    # Sort the recommendations by confidence and lift\n",
    "    recommendations = recommendations.sort_values(by=['confidence', 'lift'], ascending=False)\n",
    "    # Get the top N recommendations\n",
    "    top_recommendations = recommendations.head(top_n)\n",
    "    # Prepare the result list\n",
    "    result = []\n",
    "    for _, row in top_recommendations.iterrows():\n",
    "        for item in row['consequents']:\n",
    "            result.append(item.lower())\n",
    "    return result\n"
   ]
  },
  {
   "cell_type": "code",
   "execution_count": null,
   "metadata": {},
   "outputs": [],
   "source": []
  },
  {
   "cell_type": "code",
   "execution_count": 45,
   "metadata": {},
   "outputs": [],
   "source": [
    "# Example list of products\n",
    "product_list = ['potatoes']\n",
    "\n",
    "# Generate recommendations based on the list of products\n",
    "prods = multi_recommend_products(product_list, rules, 20)\n",
    "\n",
    "prods"
   ]
  }
 ],
 "metadata": {
  "kernelspec": {
   "display_name": "Python 3",
   "language": "python",
   "name": "python3"
  },
  "language_info": {
   "codemirror_mode": {
    "name": "ipython",
    "version": 3
   },
   "file_extension": ".py",
   "mimetype": "text/x-python",
   "name": "python",
   "nbconvert_exporter": "python",
   "pygments_lexer": "ipython3",
   "version": "3.12.3"
  }
 },
 "nbformat": 4,
 "nbformat_minor": 2
}
